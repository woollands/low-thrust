{
 "cells": [
  {
   "cell_type": "code",
   "execution_count": 15,
   "metadata": {},
   "outputs": [],
   "source": [
    "import spiceypy as sp\n",
    "import numpy as np\n"
   ]
  },
  {
   "cell_type": "code",
   "execution_count": 16,
   "metadata": {},
   "outputs": [
    {
     "ename": "TypeError",
     "evalue": "oscelt() missing 3 required positional arguments: 'state', 'et', and 'mu'",
     "output_type": "error",
     "traceback": [
      "\u001b[0;31m---------------------------------------------------------------------------\u001b[0m",
      "\u001b[0;31mTypeError\u001b[0m                                 Traceback (most recent call last)",
      "\u001b[0;32m<ipython-input-16-1425c5f2e275>\u001b[0m in \u001b[0;36m<module>\u001b[0;34m\u001b[0m\n\u001b[0;32m----> 1\u001b[0;31m \u001b[0msp\u001b[0m\u001b[0;34m.\u001b[0m\u001b[0moscelt\u001b[0m\u001b[0;34m(\u001b[0m\u001b[0;34m)\u001b[0m\u001b[0;34m\u001b[0m\u001b[0;34m\u001b[0m\u001b[0m\n\u001b[0m",
      "\u001b[0;32m~/opt/anaconda3/lib/python3.7/site-packages/spiceypy/spiceypy.py\u001b[0m in \u001b[0;36mwith_errcheck\u001b[0;34m(*args, **kwargs)\u001b[0m\n\u001b[1;32m     99\u001b[0m     \u001b[0;32mdef\u001b[0m \u001b[0mwith_errcheck\u001b[0m\u001b[0;34m(\u001b[0m\u001b[0;34m*\u001b[0m\u001b[0margs\u001b[0m\u001b[0;34m,\u001b[0m \u001b[0;34m**\u001b[0m\u001b[0mkwargs\u001b[0m\u001b[0;34m)\u001b[0m\u001b[0;34m:\u001b[0m\u001b[0;34m\u001b[0m\u001b[0;34m\u001b[0m\u001b[0m\n\u001b[1;32m    100\u001b[0m         \u001b[0;32mtry\u001b[0m\u001b[0;34m:\u001b[0m\u001b[0;34m\u001b[0m\u001b[0;34m\u001b[0m\u001b[0m\n\u001b[0;32m--> 101\u001b[0;31m             \u001b[0mres\u001b[0m \u001b[0;34m=\u001b[0m \u001b[0mf\u001b[0m\u001b[0;34m(\u001b[0m\u001b[0;34m*\u001b[0m\u001b[0margs\u001b[0m\u001b[0;34m,\u001b[0m \u001b[0;34m**\u001b[0m\u001b[0mkwargs\u001b[0m\u001b[0;34m)\u001b[0m\u001b[0;34m\u001b[0m\u001b[0;34m\u001b[0m\u001b[0m\n\u001b[0m\u001b[1;32m    102\u001b[0m             \u001b[0mcheck_for_spice_error\u001b[0m\u001b[0;34m(\u001b[0m\u001b[0mf\u001b[0m\u001b[0;34m)\u001b[0m\u001b[0;34m\u001b[0m\u001b[0;34m\u001b[0m\u001b[0m\n\u001b[1;32m    103\u001b[0m             \u001b[0;32mreturn\u001b[0m \u001b[0mres\u001b[0m\u001b[0;34m\u001b[0m\u001b[0;34m\u001b[0m\u001b[0m\n",
      "\u001b[0;31mTypeError\u001b[0m: oscelt() missing 3 required positional arguments: 'state', 'et', and 'mu'"
     ]
    }
   ],
   "source": [
    "sp.oscelt()"
   ]
  },
  {
   "cell_type": "code",
   "execution_count": 17,
   "metadata": {},
   "outputs": [
    {
     "name": "stdout",
     "output_type": "stream",
     "text": [
      "Help on function oscelt in module spiceypy.spiceypy:\n",
      "\n",
      "oscelt(state: numpy.ndarray, et: float, mu: Union[float, int]) -> numpy.ndarray\n",
      "    Determine the set of osculating conic orbital elements that\n",
      "    corresponds to the state (position, velocity) of a body at\n",
      "    some epoch.\n",
      "    \n",
      "    https://naif.jpl.nasa.gov/pub/naif/toolkit_docs/C/cspice/oscelt_c.html\n",
      "    \n",
      "    :param state: State of body at epoch of elements.\n",
      "    :param et: Epoch of elements.\n",
      "    :param mu: Gravitational parameter (GM) of primary body.\n",
      "    :return: Equivalent conic elements\n",
      "\n"
     ]
    }
   ],
   "source": [
    "help(sp.oscelt)"
   ]
  },
  {
   "cell_type": "code",
   "execution_count": 18,
   "metadata": {},
   "outputs": [
    {
     "name": "stdout",
     "output_type": "stream",
     "text": [
      "Help on function conics in module spiceypy.spiceypy:\n",
      "\n",
      "conics(elts: numpy.ndarray, et: float) -> numpy.ndarray\n",
      "    Determine the state (position, velocity) of an orbiting body\n",
      "    from a set of elliptic, hyperbolic, or parabolic orbital\n",
      "    elements.\n",
      "    \n",
      "    https://naif.jpl.nasa.gov/pub/naif/toolkit_docs/C/cspice/conics_c.html\n",
      "    \n",
      "    :param elts: Conic elements.\n",
      "    :param et: Input time.\n",
      "    :return: State of orbiting body at et.\n",
      "\n"
     ]
    }
   ],
   "source": [
    "help(sp.conics)"
   ]
  },
  {
   "cell_type": "code",
   "execution_count": 35,
   "metadata": {},
   "outputs": [
    {
     "name": "stdout",
     "output_type": "stream",
     "text": [
      "[  6878.      0.      0.      0.      0.      0.      0. 398600.]\n"
     ]
    }
   ],
   "source": [
    "elm = np.array([500+6378, 0, np.deg2rad(0), np.deg2rad(0), np.deg2rad(0), np.deg2rad(0), 0, 398600])\n",
    "print (elm)"
   ]
  },
  {
   "cell_type": "code",
   "execution_count": 36,
   "metadata": {},
   "outputs": [
    {
     "name": "stdout",
     "output_type": "stream",
     "text": [
      "[6878.            0.            0.           -0.            7.61267977\n",
      "    0.        ]\n"
     ]
    }
   ],
   "source": [
    "states0 = sp.conics(elm,0)\n",
    "print(states0)"
   ]
  },
  {
   "cell_type": "code",
   "execution_count": 39,
   "metadata": {},
   "outputs": [
    {
     "name": "stdout",
     "output_type": "stream",
     "text": [
      "[ 0  3  7 10]\n"
     ]
    }
   ],
   "source": [
    "x = np.array([0,3,7,10])\n",
    "print(x)"
   ]
  },
  {
   "cell_type": "code",
   "execution_count": 45,
   "metadata": {},
   "outputs": [
    {
     "name": "stdout",
     "output_type": "stream",
     "text": [
      "[0, 10]\n"
     ]
    }
   ],
   "source": [
    "print([x[0],x[-1]])"
   ]
  },
  {
   "cell_type": "code",
   "execution_count": 50,
   "metadata": {},
   "outputs": [
    {
     "name": "stdout",
     "output_type": "stream",
     "text": [
      "[-4.57570825e+03 -3.63110025e+03 -3.63110025e+03  5.68366702e+00\n",
      " -3.58111871e+00 -3.58111871e+00]\n",
      "[6.87800000e+03 2.16542944e-15 7.85398163e-01 0.00000000e+00\n",
      " 3.32893702e+00 6.55600229e-01 0.00000000e+00 3.98600000e+05]\n"
     ]
    }
   ],
   "source": [
    "elm0    = np.array([500+6378, 0, np.deg2rad(45), np.deg2rad(0), np.deg2rad(0), np.deg2rad(0), 0, 398600])\n",
    "states0 = sp.conics(elm0,0)\n",
    "statesf = sp.prop2b(398600,states0,3600)\n",
    "print(statesf)\n",
    "elmf = sp.oscelt(statesf,0,398600)\n",
    "print(elmf)"
   ]
  },
  {
   "cell_type": "code",
   "execution_count": null,
   "metadata": {},
   "outputs": [],
   "source": []
  }
 ],
 "metadata": {
  "kernelspec": {
   "display_name": "Python 3",
   "language": "python",
   "name": "python3"
  },
  "language_info": {
   "codemirror_mode": {
    "name": "ipython",
    "version": 3
   },
   "file_extension": ".py",
   "mimetype": "text/x-python",
   "name": "python",
   "nbconvert_exporter": "python",
   "pygments_lexer": "ipython3",
   "version": "3.7.4"
  }
 },
 "nbformat": 4,
 "nbformat_minor": 2
}
